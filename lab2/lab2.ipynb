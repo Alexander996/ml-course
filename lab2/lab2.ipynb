{
 "cells": [
  {
   "cell_type": "markdown",
   "metadata": {},
   "source": [
    "# Цель лабораторной работы\n",
    "Изучить библиотеки обработки данных Pandas и PandaSQL<cite data-cite=\"ue:lab2\"></cite>."
   ]
  },
  {
   "cell_type": "markdown",
   "metadata": {},
   "source": [
    "# Задание\n",
    "Задание состоит из&nbsp;двух частей<cite data-cite=\"ue:lab2\"></cite>.\n",
    "\n",
    "## Часть 1\n",
    "Требуется выполнить первое демонстрационное задание под&nbsp;названием «Exploratory data analysis with Pandas» со&nbsp;страницы курса [mlcourse.ai](https://mlcourse.ai/assignments) <cite data-cite=\"doc:ipython\"></cite>.\n",
    "\n",
    "## Часть 2\n",
    "Требуется выполнить следующие запросы с&nbsp;использованием двух различных библиотек&nbsp;— Pandas и PandaSQL <cite data-cite=\"doc:pandas,gh:pandasql\"></cite>:\n",
    "\n",
    "- один произвольный запрос на соединение двух наборов данных,\n",
    "- один произвольный запрос на группировку набора данных с использованием функций агрегирования.\n",
    "\n",
    "Также требуется сравнить время выполнения каждого запроса в&nbsp;Pandas и PandaSQL."
   ]
  },
  {
   "cell_type": "code",
   "execution_count": 1,
   "metadata": {
    "colab": {},
    "colab_type": "code",
    "id": "xUNQeFZm99hE"
   },
   "outputs": [],
   "source": [
    "import numpy as np\n",
    "import pandas as pd"
   ]
  },
  {
   "cell_type": "code",
   "execution_count": 2,
   "metadata": {
    "colab": {
     "base_uri": "https://localhost:8080/",
     "height": 343
    },
    "colab_type": "code",
    "id": "HbB0GbQB-9PD",
    "outputId": "69d60e2e-e137-4e34-8404-07832c8a6804"
   },
   "outputs": [
    {
     "data": {
      "text/html": [
       "<div>\n",
       "<style scoped>\n",
       "    .dataframe tbody tr th:only-of-type {\n",
       "        vertical-align: middle;\n",
       "    }\n",
       "\n",
       "    .dataframe tbody tr th {\n",
       "        vertical-align: top;\n",
       "    }\n",
       "\n",
       "    .dataframe thead th {\n",
       "        text-align: right;\n",
       "    }\n",
       "</style>\n",
       "<table border=\"1\" class=\"dataframe\">\n",
       "  <thead>\n",
       "    <tr style=\"text-align: right;\">\n",
       "      <th></th>\n",
       "      <th>age</th>\n",
       "      <th>workclass</th>\n",
       "      <th>fnlwgt</th>\n",
       "      <th>education</th>\n",
       "      <th>education-num</th>\n",
       "      <th>marital-status</th>\n",
       "      <th>occupation</th>\n",
       "      <th>relationship</th>\n",
       "      <th>race</th>\n",
       "      <th>sex</th>\n",
       "      <th>capital-gain</th>\n",
       "      <th>capital-loss</th>\n",
       "      <th>hours-per-week</th>\n",
       "      <th>native-country</th>\n",
       "      <th>salary</th>\n",
       "    </tr>\n",
       "  </thead>\n",
       "  <tbody>\n",
       "    <tr>\n",
       "      <th>0</th>\n",
       "      <td>39</td>\n",
       "      <td>State-gov</td>\n",
       "      <td>77516</td>\n",
       "      <td>Bachelors</td>\n",
       "      <td>13</td>\n",
       "      <td>Never-married</td>\n",
       "      <td>Adm-clerical</td>\n",
       "      <td>Not-in-family</td>\n",
       "      <td>White</td>\n",
       "      <td>Male</td>\n",
       "      <td>2174</td>\n",
       "      <td>0</td>\n",
       "      <td>40</td>\n",
       "      <td>United-States</td>\n",
       "      <td>&lt;=50K</td>\n",
       "    </tr>\n",
       "    <tr>\n",
       "      <th>1</th>\n",
       "      <td>50</td>\n",
       "      <td>Self-emp-not-inc</td>\n",
       "      <td>83311</td>\n",
       "      <td>Bachelors</td>\n",
       "      <td>13</td>\n",
       "      <td>Married-civ-spouse</td>\n",
       "      <td>Exec-managerial</td>\n",
       "      <td>Husband</td>\n",
       "      <td>White</td>\n",
       "      <td>Male</td>\n",
       "      <td>0</td>\n",
       "      <td>0</td>\n",
       "      <td>13</td>\n",
       "      <td>United-States</td>\n",
       "      <td>&lt;=50K</td>\n",
       "    </tr>\n",
       "    <tr>\n",
       "      <th>2</th>\n",
       "      <td>38</td>\n",
       "      <td>Private</td>\n",
       "      <td>215646</td>\n",
       "      <td>HS-grad</td>\n",
       "      <td>9</td>\n",
       "      <td>Divorced</td>\n",
       "      <td>Handlers-cleaners</td>\n",
       "      <td>Not-in-family</td>\n",
       "      <td>White</td>\n",
       "      <td>Male</td>\n",
       "      <td>0</td>\n",
       "      <td>0</td>\n",
       "      <td>40</td>\n",
       "      <td>United-States</td>\n",
       "      <td>&lt;=50K</td>\n",
       "    </tr>\n",
       "    <tr>\n",
       "      <th>3</th>\n",
       "      <td>53</td>\n",
       "      <td>Private</td>\n",
       "      <td>234721</td>\n",
       "      <td>11th</td>\n",
       "      <td>7</td>\n",
       "      <td>Married-civ-spouse</td>\n",
       "      <td>Handlers-cleaners</td>\n",
       "      <td>Husband</td>\n",
       "      <td>Black</td>\n",
       "      <td>Male</td>\n",
       "      <td>0</td>\n",
       "      <td>0</td>\n",
       "      <td>40</td>\n",
       "      <td>United-States</td>\n",
       "      <td>&lt;=50K</td>\n",
       "    </tr>\n",
       "    <tr>\n",
       "      <th>4</th>\n",
       "      <td>28</td>\n",
       "      <td>Private</td>\n",
       "      <td>338409</td>\n",
       "      <td>Bachelors</td>\n",
       "      <td>13</td>\n",
       "      <td>Married-civ-spouse</td>\n",
       "      <td>Prof-specialty</td>\n",
       "      <td>Wife</td>\n",
       "      <td>Black</td>\n",
       "      <td>Female</td>\n",
       "      <td>0</td>\n",
       "      <td>0</td>\n",
       "      <td>40</td>\n",
       "      <td>Cuba</td>\n",
       "      <td>&lt;=50K</td>\n",
       "    </tr>\n",
       "  </tbody>\n",
       "</table>\n",
       "</div>"
      ],
      "text/plain": [
       "   age         workclass  fnlwgt  education  education-num  \\\n",
       "0   39         State-gov   77516  Bachelors             13   \n",
       "1   50  Self-emp-not-inc   83311  Bachelors             13   \n",
       "2   38           Private  215646    HS-grad              9   \n",
       "3   53           Private  234721       11th              7   \n",
       "4   28           Private  338409  Bachelors             13   \n",
       "\n",
       "       marital-status         occupation   relationship   race     sex  \\\n",
       "0       Never-married       Adm-clerical  Not-in-family  White    Male   \n",
       "1  Married-civ-spouse    Exec-managerial        Husband  White    Male   \n",
       "2            Divorced  Handlers-cleaners  Not-in-family  White    Male   \n",
       "3  Married-civ-spouse  Handlers-cleaners        Husband  Black    Male   \n",
       "4  Married-civ-spouse     Prof-specialty           Wife  Black  Female   \n",
       "\n",
       "   capital-gain  capital-loss  hours-per-week native-country salary  \n",
       "0          2174             0              40  United-States  <=50K  \n",
       "1             0             0              13  United-States  <=50K  \n",
       "2             0             0              40  United-States  <=50K  \n",
       "3             0             0              40  United-States  <=50K  \n",
       "4             0             0              40           Cuba  <=50K  "
      ]
     },
     "execution_count": 2,
     "metadata": {},
     "output_type": "execute_result"
    }
   ],
   "source": [
    "data = pd.read_csv('adult.data.csv')\n",
    "data.head()"
   ]
  },
  {
   "cell_type": "code",
   "execution_count": 3,
   "metadata": {
    "colab": {
     "base_uri": "https://localhost:8080/",
     "height": 71
    },
    "colab_type": "code",
    "id": "v8XTpysIBj1G",
    "outputId": "24b98e8e-8c8e-495e-8d89-9c81ee1832ba"
   },
   "outputs": [
    {
     "data": {
      "text/plain": [
       "Male      21790\n",
       "Female    10771\n",
       "Name: sex, dtype: int64"
      ]
     },
     "execution_count": 3,
     "metadata": {},
     "output_type": "execute_result"
    }
   ],
   "source": [
    "data['sex'].value_counts()"
   ]
  },
  {
   "cell_type": "code",
   "execution_count": 4,
   "metadata": {
    "colab": {
     "base_uri": "https://localhost:8080/",
     "height": 35
    },
    "colab_type": "code",
    "id": "BUXwCUgu_z0M",
    "outputId": "86d4ffeb-6616-4765-acbe-01d238572bb7"
   },
   "outputs": [
    {
     "data": {
      "text/plain": [
       "36.85823043357163"
      ]
     },
     "execution_count": 4,
     "metadata": {},
     "output_type": "execute_result"
    }
   ],
   "source": [
    "data.loc[data['sex'] == 'Female', 'age'].mean()"
   ]
  },
  {
   "cell_type": "code",
   "execution_count": 5,
   "metadata": {
    "colab": {
     "base_uri": "https://localhost:8080/",
     "height": 35
    },
    "colab_type": "code",
    "id": "kbrbUmqtBNnw",
    "outputId": "588cfa87-a39f-4d2d-f268-ee02b816299e"
   },
   "outputs": [
    {
     "data": {
      "text/plain": [
       "0.004207487485028101"
      ]
     },
     "execution_count": 5,
     "metadata": {},
     "output_type": "execute_result"
    }
   ],
   "source": [
    "float((data['native-country'] == 'Germany').sum()) / data.shape[0]"
   ]
  },
  {
   "cell_type": "code",
   "execution_count": 6,
   "metadata": {
    "colab": {
     "base_uri": "https://localhost:8080/",
     "height": 35
    },
    "colab_type": "code",
    "id": "W4uzuyHFBvmZ",
    "outputId": "1ad46623-06ed-4bc3-f741-38403f30ce79"
   },
   "outputs": [
    {
     "name": "stdout",
     "output_type": "stream",
     "text": [
      "The average age of the rich: 44.0 +- 10.5 years, poor - 37.0 +- 14.0 years.\n"
     ]
    }
   ],
   "source": [
    "ages1 = data.loc[data['salary'] == '>50K', 'age']\n",
    "ages2 = data.loc[data['salary'] == '<=50K', 'age']\n",
    "print(\"The average age of the rich: {0} +- {1} years, poor - {2} +- {3} years.\".format(\n",
    "    round(ages1.mean()), round(ages1.std(), 1),\n",
    "    round(ages2.mean()), round(ages2.std(), 1)))"
   ]
  },
  {
   "cell_type": "code",
   "execution_count": 7,
   "metadata": {
    "colab": {
     "base_uri": "https://localhost:8080/",
     "height": 71
    },
    "colab_type": "code",
    "id": "147PhwcDCCxV",
    "outputId": "78854fe7-fdd9-4185-c0f7-c1b5a4133689"
   },
   "outputs": [
    {
     "data": {
      "text/plain": [
       "array(['HS-grad', 'Masters', 'Bachelors', 'Some-college', 'Assoc-voc',\n",
       "       'Doctorate', 'Prof-school', 'Assoc-acdm', '7th-8th', '12th',\n",
       "       '10th', '11th', '9th', '5th-6th', '1st-4th'], dtype=object)"
      ]
     },
     "execution_count": 7,
     "metadata": {},
     "output_type": "execute_result"
    }
   ],
   "source": [
    "data.loc[data['salary'] == '>50K', 'education'].unique() # No"
   ]
  },
  {
   "cell_type": "code",
   "execution_count": 8,
   "metadata": {
    "colab": {
     "base_uri": "https://localhost:8080/",
     "height": 1817
    },
    "colab_type": "code",
    "id": "eSsI7a2RDSa8",
    "outputId": "ddf41af0-30fd-4c9a-ace5-cd54da1b1986"
   },
   "outputs": [
    {
     "name": "stdout",
     "output_type": "stream",
     "text": [
      "Race: Amer-Indian-Eskimo, sex: Female\n",
      "count    119.000000\n",
      "mean      37.117647\n",
      "std       13.114991\n",
      "min       17.000000\n",
      "25%       27.000000\n",
      "50%       36.000000\n",
      "75%       46.000000\n",
      "max       80.000000\n",
      "Name: age, dtype: float64\n",
      "Race: Amer-Indian-Eskimo, sex: Male\n",
      "count    192.000000\n",
      "mean      37.208333\n",
      "std       12.049563\n",
      "min       17.000000\n",
      "25%       28.000000\n",
      "50%       35.000000\n",
      "75%       45.000000\n",
      "max       82.000000\n",
      "Name: age, dtype: float64\n",
      "Race: Asian-Pac-Islander, sex: Female\n",
      "count    346.000000\n",
      "mean      35.089595\n",
      "std       12.300845\n",
      "min       17.000000\n",
      "25%       25.000000\n",
      "50%       33.000000\n",
      "75%       43.750000\n",
      "max       75.000000\n",
      "Name: age, dtype: float64\n",
      "Race: Asian-Pac-Islander, sex: Male\n",
      "count    693.000000\n",
      "mean      39.073593\n",
      "std       12.883944\n",
      "min       18.000000\n",
      "25%       29.000000\n",
      "50%       37.000000\n",
      "75%       46.000000\n",
      "max       90.000000\n",
      "Name: age, dtype: float64\n",
      "Race: Black, sex: Female\n",
      "count    1555.000000\n",
      "mean       37.854019\n",
      "std        12.637197\n",
      "min        17.000000\n",
      "25%        28.000000\n",
      "50%        37.000000\n",
      "75%        46.000000\n",
      "max        90.000000\n",
      "Name: age, dtype: float64\n",
      "Race: Black, sex: Male\n",
      "count    1569.000000\n",
      "mean       37.682600\n",
      "std        12.882612\n",
      "min        17.000000\n",
      "25%        27.000000\n",
      "50%        36.000000\n",
      "75%        46.000000\n",
      "max        90.000000\n",
      "Name: age, dtype: float64\n",
      "Race: Other, sex: Female\n",
      "count    109.000000\n",
      "mean      31.678899\n",
      "std       11.631599\n",
      "min       17.000000\n",
      "25%       23.000000\n",
      "50%       29.000000\n",
      "75%       39.000000\n",
      "max       74.000000\n",
      "Name: age, dtype: float64\n",
      "Race: Other, sex: Male\n",
      "count    162.000000\n",
      "mean      34.654321\n",
      "std       11.355531\n",
      "min       17.000000\n",
      "25%       26.000000\n",
      "50%       32.000000\n",
      "75%       42.000000\n",
      "max       77.000000\n",
      "Name: age, dtype: float64\n",
      "Race: White, sex: Female\n",
      "count    8642.000000\n",
      "mean       36.811618\n",
      "std        14.329093\n",
      "min        17.000000\n",
      "25%        25.000000\n",
      "50%        35.000000\n",
      "75%        46.000000\n",
      "max        90.000000\n",
      "Name: age, dtype: float64\n",
      "Race: White, sex: Male\n",
      "count    19174.000000\n",
      "mean        39.652498\n",
      "std         13.436029\n",
      "min         17.000000\n",
      "25%         29.000000\n",
      "50%         38.000000\n",
      "75%         49.000000\n",
      "max         90.000000\n",
      "Name: age, dtype: float64\n"
     ]
    }
   ],
   "source": [
    "for (race, sex), sub_df in data.groupby(['race', 'sex']):\n",
    "    print(\"Race: {0}, sex: {1}\".format(race, sex))\n",
    "    print(sub_df['age'].describe())"
   ]
  },
  {
   "cell_type": "code",
   "execution_count": 9,
   "metadata": {
    "colab": {
     "base_uri": "https://localhost:8080/",
     "height": 71
    },
    "colab_type": "code",
    "id": "KVCYHfbsDXg0",
    "outputId": "23246d44-2ba1-407c-85a3-fe996893b179"
   },
   "outputs": [
    {
     "data": {
      "text/plain": [
       "<=50K    7552\n",
       ">50K      697\n",
       "Name: salary, dtype: int64"
      ]
     },
     "execution_count": 9,
     "metadata": {},
     "output_type": "execute_result"
    }
   ],
   "source": [
    "data.loc[(data['sex'] == 'Male') &\n",
    "     (data['marital-status'].isin(['Never-married', \n",
    "                                   'Separated', \n",
    "                                   'Divorced',\n",
    "                                   'Widowed'])), 'salary'].value_counts()"
   ]
  },
  {
   "cell_type": "code",
   "execution_count": 10,
   "metadata": {
    "colab": {
     "base_uri": "https://localhost:8080/",
     "height": 71
    },
    "colab_type": "code",
    "id": "9lC-qRnaDhtE",
    "outputId": "5a27b9fa-6656-4089-e203-c851f0d58339"
   },
   "outputs": [
    {
     "data": {
      "text/plain": [
       "<=50K    7576\n",
       ">50K     5965\n",
       "Name: salary, dtype: int64"
      ]
     },
     "execution_count": 10,
     "metadata": {},
     "output_type": "execute_result"
    }
   ],
   "source": [
    "data.loc[(data['sex'] == 'Male') &\n",
    "     (data['marital-status'].str.startswith('Married')), 'salary'].value_counts()"
   ]
  },
  {
   "cell_type": "code",
   "execution_count": 11,
   "metadata": {
    "colab": {
     "base_uri": "https://localhost:8080/",
     "height": 161
    },
    "colab_type": "code",
    "id": "ygSZ-zONDpYJ",
    "outputId": "0af0d02e-819f-466e-c610-2e369bfa5d5f"
   },
   "outputs": [
    {
     "data": {
      "text/plain": [
       "Married-civ-spouse       14976\n",
       "Never-married            10683\n",
       "Divorced                  4443\n",
       "Separated                 1025\n",
       "Widowed                    993\n",
       "Married-spouse-absent      418\n",
       "Married-AF-spouse           23\n",
       "Name: marital-status, dtype: int64"
      ]
     },
     "execution_count": 11,
     "metadata": {},
     "output_type": "execute_result"
    }
   ],
   "source": [
    "data['marital-status'].value_counts()"
   ]
  },
  {
   "cell_type": "code",
   "execution_count": 12,
   "metadata": {
    "colab": {
     "base_uri": "https://localhost:8080/",
     "height": 71
    },
    "colab_type": "code",
    "id": "rRfqOwaRDsRB",
    "outputId": "f34b6eef-d614-484d-d668-fe001a9e1ac1"
   },
   "outputs": [
    {
     "name": "stdout",
     "output_type": "stream",
     "text": [
      "Max time - 99 hours./week.\n",
      "Total number of such hard workers 85\n",
      "Percentage of rich among them 29%\n"
     ]
    }
   ],
   "source": [
    "max_load = data['hours-per-week'].max()\n",
    "print(\"Max time - {0} hours./week.\".format(max_load))\n",
    "\n",
    "num_workaholics = data[data['hours-per-week'] == max_load].shape[0]\n",
    "print(\"Total number of such hard workers {0}\".format(num_workaholics))\n",
    "\n",
    "rich_share = float(data[(data['hours-per-week'] == max_load)\n",
    "                 & (data['salary'] == '>50K')].shape[0]) / num_workaholics\n",
    "print(\"Percentage of rich among them {0}%\".format(int(100 * rich_share)))"
   ]
  },
  {
   "cell_type": "code",
   "execution_count": 13,
   "metadata": {
    "colab": {
     "base_uri": "https://localhost:8080/",
     "height": 1493
    },
    "colab_type": "code",
    "id": "KKpk5IZhDvYZ",
    "outputId": "9a0d695f-c0bc-41ae-9698-2f2604a5d0a4"
   },
   "outputs": [
    {
     "name": "stdout",
     "output_type": "stream",
     "text": [
      "? <=50K 40.16\n",
      "? >50K 45.55\n",
      "Cambodia <=50K 41.42\n",
      "Cambodia >50K 40.0\n",
      "Canada <=50K 37.91\n",
      "Canada >50K 45.64\n",
      "China <=50K 37.38\n",
      "China >50K 38.9\n",
      "Columbia <=50K 38.68\n",
      "Columbia >50K 50.0\n",
      "Cuba <=50K 37.99\n",
      "Cuba >50K 42.44\n",
      "Dominican-Republic <=50K 42.34\n",
      "Dominican-Republic >50K 47.0\n",
      "Ecuador <=50K 38.04\n",
      "Ecuador >50K 48.75\n",
      "El-Salvador <=50K 36.03\n",
      "El-Salvador >50K 45.0\n",
      "England <=50K 40.48\n",
      "England >50K 44.53\n",
      "France <=50K 41.06\n",
      "France >50K 50.75\n",
      "Germany <=50K 39.14\n",
      "Germany >50K 44.98\n",
      "Greece <=50K 41.81\n",
      "Greece >50K 50.62\n",
      "Guatemala <=50K 39.36\n",
      "Guatemala >50K 36.67\n",
      "Haiti <=50K 36.33\n",
      "Haiti >50K 42.75\n",
      "Holand-Netherlands <=50K 40.0\n",
      "Honduras <=50K 34.33\n",
      "Honduras >50K 60.0\n",
      "Hong <=50K 39.14\n",
      "Hong >50K 45.0\n",
      "Hungary <=50K 31.3\n",
      "Hungary >50K 50.0\n",
      "India <=50K 38.23\n",
      "India >50K 46.48\n",
      "Iran <=50K 41.44\n",
      "Iran >50K 47.5\n",
      "Ireland <=50K 40.95\n",
      "Ireland >50K 48.0\n",
      "Italy <=50K 39.62\n",
      "Italy >50K 45.4\n",
      "Jamaica <=50K 38.24\n",
      "Jamaica >50K 41.1\n",
      "Japan <=50K 41.0\n",
      "Japan >50K 47.96\n",
      "Laos <=50K 40.38\n",
      "Laos >50K 40.0\n",
      "Mexico <=50K 40.0\n",
      "Mexico >50K 46.58\n",
      "Nicaragua <=50K 36.09\n",
      "Nicaragua >50K 37.5\n",
      "Outlying-US(Guam-USVI-etc) <=50K 41.86\n",
      "Peru <=50K 35.07\n",
      "Peru >50K 40.0\n",
      "Philippines <=50K 38.07\n",
      "Philippines >50K 43.03\n",
      "Poland <=50K 38.17\n",
      "Poland >50K 39.0\n",
      "Portugal <=50K 41.94\n",
      "Portugal >50K 41.5\n",
      "Puerto-Rico <=50K 38.47\n",
      "Puerto-Rico >50K 39.42\n",
      "Scotland <=50K 39.44\n",
      "Scotland >50K 46.67\n",
      "South <=50K 40.16\n",
      "South >50K 51.44\n",
      "Taiwan <=50K 33.77\n",
      "Taiwan >50K 46.8\n",
      "Thailand <=50K 42.87\n",
      "Thailand >50K 58.33\n",
      "Trinadad&Tobago <=50K 37.06\n",
      "Trinadad&Tobago >50K 40.0\n",
      "United-States <=50K 38.8\n",
      "United-States >50K 45.51\n",
      "Vietnam <=50K 37.19\n",
      "Vietnam >50K 39.2\n",
      "Yugoslavia <=50K 41.6\n",
      "Yugoslavia >50K 49.5\n"
     ]
    }
   ],
   "source": [
    "for (country, salary), sub_df in data.groupby(['native-country', 'salary']):\n",
    "    print(country, salary, round(sub_df['hours-per-week'].mean(), 2))"
   ]
  },
  {
   "cell_type": "code",
   "execution_count": 14,
   "metadata": {
    "colab": {
     "base_uri": "https://localhost:8080/",
     "height": 208
    },
    "colab_type": "code",
    "id": "6CzNDBb8DyG7",
    "outputId": "ba3ab35c-3ae9-4fd6-a8dd-263614b11afd"
   },
   "outputs": [
    {
     "data": {
      "text/html": [
       "<div>\n",
       "<style scoped>\n",
       "    .dataframe tbody tr th:only-of-type {\n",
       "        vertical-align: middle;\n",
       "    }\n",
       "\n",
       "    .dataframe tbody tr th {\n",
       "        vertical-align: top;\n",
       "    }\n",
       "\n",
       "    .dataframe thead th {\n",
       "        text-align: right;\n",
       "    }\n",
       "</style>\n",
       "<table border=\"1\" class=\"dataframe\">\n",
       "  <thead>\n",
       "    <tr style=\"text-align: right;\">\n",
       "      <th>native-country</th>\n",
       "      <th>?</th>\n",
       "      <th>Cambodia</th>\n",
       "      <th>Canada</th>\n",
       "      <th>China</th>\n",
       "      <th>Columbia</th>\n",
       "      <th>Cuba</th>\n",
       "      <th>Dominican-Republic</th>\n",
       "      <th>Ecuador</th>\n",
       "      <th>El-Salvador</th>\n",
       "      <th>England</th>\n",
       "      <th>...</th>\n",
       "      <th>Portugal</th>\n",
       "      <th>Puerto-Rico</th>\n",
       "      <th>Scotland</th>\n",
       "      <th>South</th>\n",
       "      <th>Taiwan</th>\n",
       "      <th>Thailand</th>\n",
       "      <th>Trinadad&amp;Tobago</th>\n",
       "      <th>United-States</th>\n",
       "      <th>Vietnam</th>\n",
       "      <th>Yugoslavia</th>\n",
       "    </tr>\n",
       "    <tr>\n",
       "      <th>salary</th>\n",
       "      <th></th>\n",
       "      <th></th>\n",
       "      <th></th>\n",
       "      <th></th>\n",
       "      <th></th>\n",
       "      <th></th>\n",
       "      <th></th>\n",
       "      <th></th>\n",
       "      <th></th>\n",
       "      <th></th>\n",
       "      <th></th>\n",
       "      <th></th>\n",
       "      <th></th>\n",
       "      <th></th>\n",
       "      <th></th>\n",
       "      <th></th>\n",
       "      <th></th>\n",
       "      <th></th>\n",
       "      <th></th>\n",
       "      <th></th>\n",
       "      <th></th>\n",
       "    </tr>\n",
       "  </thead>\n",
       "  <tbody>\n",
       "    <tr>\n",
       "      <th>&lt;=50K</th>\n",
       "      <td>40.164760</td>\n",
       "      <td>41.416667</td>\n",
       "      <td>37.914634</td>\n",
       "      <td>37.381818</td>\n",
       "      <td>38.684211</td>\n",
       "      <td>37.985714</td>\n",
       "      <td>42.338235</td>\n",
       "      <td>38.041667</td>\n",
       "      <td>36.030928</td>\n",
       "      <td>40.483333</td>\n",
       "      <td>...</td>\n",
       "      <td>41.939394</td>\n",
       "      <td>38.470588</td>\n",
       "      <td>39.444444</td>\n",
       "      <td>40.15625</td>\n",
       "      <td>33.774194</td>\n",
       "      <td>42.866667</td>\n",
       "      <td>37.058824</td>\n",
       "      <td>38.799127</td>\n",
       "      <td>37.193548</td>\n",
       "      <td>41.6</td>\n",
       "    </tr>\n",
       "    <tr>\n",
       "      <th>&gt;50K</th>\n",
       "      <td>45.547945</td>\n",
       "      <td>40.000000</td>\n",
       "      <td>45.641026</td>\n",
       "      <td>38.900000</td>\n",
       "      <td>50.000000</td>\n",
       "      <td>42.440000</td>\n",
       "      <td>47.000000</td>\n",
       "      <td>48.750000</td>\n",
       "      <td>45.000000</td>\n",
       "      <td>44.533333</td>\n",
       "      <td>...</td>\n",
       "      <td>41.500000</td>\n",
       "      <td>39.416667</td>\n",
       "      <td>46.666667</td>\n",
       "      <td>51.43750</td>\n",
       "      <td>46.800000</td>\n",
       "      <td>58.333333</td>\n",
       "      <td>40.000000</td>\n",
       "      <td>45.505369</td>\n",
       "      <td>39.200000</td>\n",
       "      <td>49.5</td>\n",
       "    </tr>\n",
       "  </tbody>\n",
       "</table>\n",
       "<p>2 rows × 42 columns</p>\n",
       "</div>"
      ],
      "text/plain": [
       "native-country          ?   Cambodia     Canada      China   Columbia  \\\n",
       "salary                                                                  \n",
       "<=50K           40.164760  41.416667  37.914634  37.381818  38.684211   \n",
       ">50K            45.547945  40.000000  45.641026  38.900000  50.000000   \n",
       "\n",
       "native-country       Cuba  Dominican-Republic    Ecuador  El-Salvador  \\\n",
       "salary                                                                  \n",
       "<=50K           37.985714           42.338235  38.041667    36.030928   \n",
       ">50K            42.440000           47.000000  48.750000    45.000000   \n",
       "\n",
       "native-country    England  ...   Portugal  Puerto-Rico   Scotland     South  \\\n",
       "salary                     ...                                                \n",
       "<=50K           40.483333  ...  41.939394    38.470588  39.444444  40.15625   \n",
       ">50K            44.533333  ...  41.500000    39.416667  46.666667  51.43750   \n",
       "\n",
       "native-country     Taiwan   Thailand  Trinadad&Tobago  United-States  \\\n",
       "salary                                                                 \n",
       "<=50K           33.774194  42.866667        37.058824      38.799127   \n",
       ">50K            46.800000  58.333333        40.000000      45.505369   \n",
       "\n",
       "native-country    Vietnam  Yugoslavia  \n",
       "salary                                 \n",
       "<=50K           37.193548        41.6  \n",
       ">50K            39.200000        49.5  \n",
       "\n",
       "[2 rows x 42 columns]"
      ]
     },
     "execution_count": 14,
     "metadata": {},
     "output_type": "execute_result"
    }
   ],
   "source": [
    "pd.crosstab(data['native-country'], data['salary'], \n",
    "           values=data['hours-per-week'], aggfunc=np.mean).T"
   ]
  },
  {
   "cell_type": "code",
   "execution_count": 15,
   "metadata": {
    "colab": {
     "base_uri": "https://localhost:8080/",
     "height": 188
    },
    "colab_type": "code",
    "id": "dwQqaDWOD1Pu",
    "outputId": "8acfb6fe-a76f-4dba-c0ba-687ac7c7e77c"
   },
   "outputs": [],
   "source": [
    "user_usage = pd.read_csv('user_usage.csv')\n",
    "user_device = pd.read_csv('user_device.csv')"
   ]
  },
  {
   "cell_type": "code",
   "execution_count": 16,
   "metadata": {
    "colab": {},
    "colab_type": "code",
    "id": "JLdk2MwJEPSa"
   },
   "outputs": [
    {
     "data": {
      "text/html": [
       "<div>\n",
       "<style scoped>\n",
       "    .dataframe tbody tr th:only-of-type {\n",
       "        vertical-align: middle;\n",
       "    }\n",
       "\n",
       "    .dataframe tbody tr th {\n",
       "        vertical-align: top;\n",
       "    }\n",
       "\n",
       "    .dataframe thead th {\n",
       "        text-align: right;\n",
       "    }\n",
       "</style>\n",
       "<table border=\"1\" class=\"dataframe\">\n",
       "  <thead>\n",
       "    <tr style=\"text-align: right;\">\n",
       "      <th></th>\n",
       "      <th>outgoing_mins_per_month</th>\n",
       "      <th>outgoing_sms_per_month</th>\n",
       "      <th>monthly_mb</th>\n",
       "      <th>use_id</th>\n",
       "    </tr>\n",
       "  </thead>\n",
       "  <tbody>\n",
       "    <tr>\n",
       "      <th>0</th>\n",
       "      <td>21.97</td>\n",
       "      <td>4.82</td>\n",
       "      <td>1557.33</td>\n",
       "      <td>22787</td>\n",
       "    </tr>\n",
       "    <tr>\n",
       "      <th>1</th>\n",
       "      <td>1710.08</td>\n",
       "      <td>136.88</td>\n",
       "      <td>7267.55</td>\n",
       "      <td>22788</td>\n",
       "    </tr>\n",
       "    <tr>\n",
       "      <th>2</th>\n",
       "      <td>1710.08</td>\n",
       "      <td>136.88</td>\n",
       "      <td>7267.55</td>\n",
       "      <td>22789</td>\n",
       "    </tr>\n",
       "    <tr>\n",
       "      <th>3</th>\n",
       "      <td>94.46</td>\n",
       "      <td>35.17</td>\n",
       "      <td>519.12</td>\n",
       "      <td>22790</td>\n",
       "    </tr>\n",
       "    <tr>\n",
       "      <th>4</th>\n",
       "      <td>71.59</td>\n",
       "      <td>79.26</td>\n",
       "      <td>1557.33</td>\n",
       "      <td>22792</td>\n",
       "    </tr>\n",
       "  </tbody>\n",
       "</table>\n",
       "</div>"
      ],
      "text/plain": [
       "   outgoing_mins_per_month  outgoing_sms_per_month  monthly_mb  use_id\n",
       "0                    21.97                    4.82     1557.33   22787\n",
       "1                  1710.08                  136.88     7267.55   22788\n",
       "2                  1710.08                  136.88     7267.55   22789\n",
       "3                    94.46                   35.17      519.12   22790\n",
       "4                    71.59                   79.26     1557.33   22792"
      ]
     },
     "execution_count": 16,
     "metadata": {},
     "output_type": "execute_result"
    }
   ],
   "source": [
    "user_usage.head()"
   ]
  },
  {
   "cell_type": "code",
   "execution_count": 17,
   "metadata": {
    "colab": {},
    "colab_type": "code",
    "id": "nS-eTQRgESbf"
   },
   "outputs": [
    {
     "data": {
      "text/html": [
       "<div>\n",
       "<style scoped>\n",
       "    .dataframe tbody tr th:only-of-type {\n",
       "        vertical-align: middle;\n",
       "    }\n",
       "\n",
       "    .dataframe tbody tr th {\n",
       "        vertical-align: top;\n",
       "    }\n",
       "\n",
       "    .dataframe thead th {\n",
       "        text-align: right;\n",
       "    }\n",
       "</style>\n",
       "<table border=\"1\" class=\"dataframe\">\n",
       "  <thead>\n",
       "    <tr style=\"text-align: right;\">\n",
       "      <th></th>\n",
       "      <th>use_id</th>\n",
       "      <th>user_id</th>\n",
       "      <th>platform</th>\n",
       "      <th>platform_version</th>\n",
       "      <th>device</th>\n",
       "      <th>use_type_id</th>\n",
       "    </tr>\n",
       "  </thead>\n",
       "  <tbody>\n",
       "    <tr>\n",
       "      <th>0</th>\n",
       "      <td>22782</td>\n",
       "      <td>26980</td>\n",
       "      <td>ios</td>\n",
       "      <td>10.2</td>\n",
       "      <td>iPhone7,2</td>\n",
       "      <td>2</td>\n",
       "    </tr>\n",
       "    <tr>\n",
       "      <th>1</th>\n",
       "      <td>22783</td>\n",
       "      <td>29628</td>\n",
       "      <td>android</td>\n",
       "      <td>6.0</td>\n",
       "      <td>Nexus 5</td>\n",
       "      <td>3</td>\n",
       "    </tr>\n",
       "    <tr>\n",
       "      <th>2</th>\n",
       "      <td>22784</td>\n",
       "      <td>28473</td>\n",
       "      <td>android</td>\n",
       "      <td>5.1</td>\n",
       "      <td>SM-G903F</td>\n",
       "      <td>1</td>\n",
       "    </tr>\n",
       "    <tr>\n",
       "      <th>3</th>\n",
       "      <td>22785</td>\n",
       "      <td>15200</td>\n",
       "      <td>ios</td>\n",
       "      <td>10.2</td>\n",
       "      <td>iPhone7,2</td>\n",
       "      <td>3</td>\n",
       "    </tr>\n",
       "    <tr>\n",
       "      <th>4</th>\n",
       "      <td>22786</td>\n",
       "      <td>28239</td>\n",
       "      <td>android</td>\n",
       "      <td>6.0</td>\n",
       "      <td>ONE E1003</td>\n",
       "      <td>1</td>\n",
       "    </tr>\n",
       "  </tbody>\n",
       "</table>\n",
       "</div>"
      ],
      "text/plain": [
       "   use_id  user_id platform  platform_version     device  use_type_id\n",
       "0   22782    26980      ios              10.2  iPhone7,2            2\n",
       "1   22783    29628  android               6.0    Nexus 5            3\n",
       "2   22784    28473  android               5.1   SM-G903F            1\n",
       "3   22785    15200      ios              10.2  iPhone7,2            3\n",
       "4   22786    28239  android               6.0  ONE E1003            1"
      ]
     },
     "execution_count": 17,
     "metadata": {},
     "output_type": "execute_result"
    }
   ],
   "source": [
    "user_device.head()"
   ]
  },
  {
   "cell_type": "code",
   "execution_count": 18,
   "metadata": {
    "colab": {},
    "colab_type": "code",
    "id": "Ts2o_MNQEUYz"
   },
   "outputs": [
    {
     "data": {
      "text/html": [
       "<div>\n",
       "<style scoped>\n",
       "    .dataframe tbody tr th:only-of-type {\n",
       "        vertical-align: middle;\n",
       "    }\n",
       "\n",
       "    .dataframe tbody tr th {\n",
       "        vertical-align: top;\n",
       "    }\n",
       "\n",
       "    .dataframe thead th {\n",
       "        text-align: right;\n",
       "    }\n",
       "</style>\n",
       "<table border=\"1\" class=\"dataframe\">\n",
       "  <thead>\n",
       "    <tr style=\"text-align: right;\">\n",
       "      <th></th>\n",
       "      <th>outgoing_mins_per_month</th>\n",
       "      <th>outgoing_sms_per_month</th>\n",
       "      <th>monthly_mb</th>\n",
       "      <th>use_id</th>\n",
       "      <th>platform</th>\n",
       "      <th>device</th>\n",
       "    </tr>\n",
       "  </thead>\n",
       "  <tbody>\n",
       "    <tr>\n",
       "      <th>0</th>\n",
       "      <td>21.97</td>\n",
       "      <td>4.82</td>\n",
       "      <td>1557.33</td>\n",
       "      <td>22787</td>\n",
       "      <td>android</td>\n",
       "      <td>GT-I9505</td>\n",
       "    </tr>\n",
       "    <tr>\n",
       "      <th>1</th>\n",
       "      <td>1710.08</td>\n",
       "      <td>136.88</td>\n",
       "      <td>7267.55</td>\n",
       "      <td>22788</td>\n",
       "      <td>android</td>\n",
       "      <td>SM-G930F</td>\n",
       "    </tr>\n",
       "    <tr>\n",
       "      <th>2</th>\n",
       "      <td>1710.08</td>\n",
       "      <td>136.88</td>\n",
       "      <td>7267.55</td>\n",
       "      <td>22789</td>\n",
       "      <td>android</td>\n",
       "      <td>SM-G930F</td>\n",
       "    </tr>\n",
       "    <tr>\n",
       "      <th>3</th>\n",
       "      <td>94.46</td>\n",
       "      <td>35.17</td>\n",
       "      <td>519.12</td>\n",
       "      <td>22790</td>\n",
       "      <td>android</td>\n",
       "      <td>D2303</td>\n",
       "    </tr>\n",
       "    <tr>\n",
       "      <th>4</th>\n",
       "      <td>71.59</td>\n",
       "      <td>79.26</td>\n",
       "      <td>1557.33</td>\n",
       "      <td>22792</td>\n",
       "      <td>android</td>\n",
       "      <td>SM-G361F</td>\n",
       "    </tr>\n",
       "  </tbody>\n",
       "</table>\n",
       "</div>"
      ],
      "text/plain": [
       "   outgoing_mins_per_month  outgoing_sms_per_month  monthly_mb  use_id  \\\n",
       "0                    21.97                    4.82     1557.33   22787   \n",
       "1                  1710.08                  136.88     7267.55   22788   \n",
       "2                  1710.08                  136.88     7267.55   22789   \n",
       "3                    94.46                   35.17      519.12   22790   \n",
       "4                    71.59                   79.26     1557.33   22792   \n",
       "\n",
       "  platform    device  \n",
       "0  android  GT-I9505  \n",
       "1  android  SM-G930F  \n",
       "2  android  SM-G930F  \n",
       "3  android     D2303  \n",
       "4  android  SM-G361F  "
      ]
     },
     "execution_count": 18,
     "metadata": {},
     "output_type": "execute_result"
    }
   ],
   "source": [
    "result = pd.merge(user_usage,\n",
    "                 user_device[['use_id', 'platform', 'device']],\n",
    "                 on='use_id')\n",
    "result.head()"
   ]
  },
  {
   "cell_type": "code",
   "execution_count": 19,
   "metadata": {
    "colab": {},
    "colab_type": "code",
    "id": "stY9zxSNEWc2"
   },
   "outputs": [
    {
     "data": {
      "text/html": [
       "<div>\n",
       "<style scoped>\n",
       "    .dataframe tbody tr th:only-of-type {\n",
       "        vertical-align: middle;\n",
       "    }\n",
       "\n",
       "    .dataframe tbody tr th {\n",
       "        vertical-align: top;\n",
       "    }\n",
       "\n",
       "    .dataframe thead th {\n",
       "        text-align: right;\n",
       "    }\n",
       "</style>\n",
       "<table border=\"1\" class=\"dataframe\">\n",
       "  <thead>\n",
       "    <tr style=\"text-align: right;\">\n",
       "      <th></th>\n",
       "      <th>outgoing_mins_per_month</th>\n",
       "      <th>outgoing_sms_per_month</th>\n",
       "      <th>monthly_mb</th>\n",
       "      <th>use_id</th>\n",
       "      <th>platform</th>\n",
       "      <th>device</th>\n",
       "      <th>_merge</th>\n",
       "    </tr>\n",
       "  </thead>\n",
       "  <tbody>\n",
       "    <tr>\n",
       "      <th>0</th>\n",
       "      <td>21.97</td>\n",
       "      <td>4.82</td>\n",
       "      <td>1557.33</td>\n",
       "      <td>22787</td>\n",
       "      <td>android</td>\n",
       "      <td>GT-I9505</td>\n",
       "      <td>both</td>\n",
       "    </tr>\n",
       "    <tr>\n",
       "      <th>1</th>\n",
       "      <td>1710.08</td>\n",
       "      <td>136.88</td>\n",
       "      <td>7267.55</td>\n",
       "      <td>22788</td>\n",
       "      <td>android</td>\n",
       "      <td>SM-G930F</td>\n",
       "      <td>both</td>\n",
       "    </tr>\n",
       "    <tr>\n",
       "      <th>200</th>\n",
       "      <td>28.79</td>\n",
       "      <td>29.42</td>\n",
       "      <td>3114.67</td>\n",
       "      <td>23988</td>\n",
       "      <td>NaN</td>\n",
       "      <td>NaN</td>\n",
       "      <td>left_only</td>\n",
       "    </tr>\n",
       "    <tr>\n",
       "      <th>201</th>\n",
       "      <td>616.56</td>\n",
       "      <td>99.85</td>\n",
       "      <td>5414.14</td>\n",
       "      <td>24006</td>\n",
       "      <td>NaN</td>\n",
       "      <td>NaN</td>\n",
       "      <td>left_only</td>\n",
       "    </tr>\n",
       "    <tr>\n",
       "      <th>350</th>\n",
       "      <td>NaN</td>\n",
       "      <td>NaN</td>\n",
       "      <td>NaN</td>\n",
       "      <td>23050</td>\n",
       "      <td>ios</td>\n",
       "      <td>iPhone7,2</td>\n",
       "      <td>right_only</td>\n",
       "    </tr>\n",
       "    <tr>\n",
       "      <th>351</th>\n",
       "      <td>NaN</td>\n",
       "      <td>NaN</td>\n",
       "      <td>NaN</td>\n",
       "      <td>23051</td>\n",
       "      <td>ios</td>\n",
       "      <td>iPhone7,2</td>\n",
       "      <td>right_only</td>\n",
       "    </tr>\n",
       "  </tbody>\n",
       "</table>\n",
       "</div>"
      ],
      "text/plain": [
       "     outgoing_mins_per_month  outgoing_sms_per_month  monthly_mb  use_id  \\\n",
       "0                      21.97                    4.82     1557.33   22787   \n",
       "1                    1710.08                  136.88     7267.55   22788   \n",
       "200                    28.79                   29.42     3114.67   23988   \n",
       "201                   616.56                   99.85     5414.14   24006   \n",
       "350                      NaN                     NaN         NaN   23050   \n",
       "351                      NaN                     NaN         NaN   23051   \n",
       "\n",
       "    platform     device      _merge  \n",
       "0    android   GT-I9505        both  \n",
       "1    android   SM-G930F        both  \n",
       "200      NaN        NaN   left_only  \n",
       "201      NaN        NaN   left_only  \n",
       "350      ios  iPhone7,2  right_only  \n",
       "351      ios  iPhone7,2  right_only  "
      ]
     },
     "execution_count": 19,
     "metadata": {},
     "output_type": "execute_result"
    }
   ],
   "source": [
    "result = pd.merge(user_usage,\n",
    "                 user_device[['use_id', 'platform', 'device']],\n",
    "                 on='use_id', \n",
    "                 how='outer', \n",
    "                 indicator=True)\n",
    "\n",
    "result.iloc[[0, 1, 200,201,350,351]]"
   ]
  }
 ],
 "metadata": {
  "authors": [
   {
    "name": "Смирнов А. И."
   }
  ],
  "group": "ИУ5-22М",
  "kernelspec": {
   "display_name": "Python 3",
   "language": "python",
   "name": "python3"
  },
  "lab_number": 2,
  "language_info": {
   "codemirror_mode": {
    "name": "ipython",
    "version": 3
   },
   "file_extension": ".py",
   "mimetype": "text/x-python",
   "name": "python",
   "nbconvert_exporter": "python",
   "pygments_lexer": "ipython3",
   "version": "3.7.1"
  },
  "title": "Изучение библиотек обработки данных"
 },
 "nbformat": 4,
 "nbformat_minor": 1
}
